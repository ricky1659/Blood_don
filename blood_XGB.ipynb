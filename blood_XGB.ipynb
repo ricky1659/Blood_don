{
 "cells": [
  {
   "cell_type": "code",
   "execution_count": 5,
   "metadata": {
    "collapsed": false
   },
   "outputs": [],
   "source": [
    "import pandas as pd\n",
    "import numpy as np\n",
    "from sklearn.ensemble import RandomForestClassifier\n",
    "import seaborn as sns\n",
    "from matplotlib import pyplot as plt\n",
    "from sklearn.model_selection import train_test_split\n",
    "from sklearn.metrics import log_loss\n",
    "from pandas_ml import ConfusionMatrix\n",
    "%matplotlib inline"
   ]
  },
  {
   "cell_type": "code",
   "execution_count": 6,
   "metadata": {
    "collapsed": false
   },
   "outputs": [
    {
     "name": "stdout",
     "output_type": "stream",
     "text": [
      "<class 'pandas.core.frame.DataFrame'>\n",
      "RangeIndex: 576 entries, 0 to 575\n",
      "Data columns (total 6 columns):\n",
      "Unnamed: 0                     576 non-null int64\n",
      "Months since Last Donation     576 non-null int64\n",
      "Number of Donations            576 non-null int64\n",
      "Total Volume Donated (c.c.)    576 non-null int64\n",
      "Months since First Donation    576 non-null int64\n",
      "Made Donation in March 2007    576 non-null int64\n",
      "dtypes: int64(6)\n",
      "memory usage: 27.1 KB\n"
     ]
    }
   ],
   "source": [
    "train_df = pd.read_csv('blood_train.csv')\n",
    "train_df.info()"
   ]
  },
  {
   "cell_type": "code",
   "execution_count": 7,
   "metadata": {
    "collapsed": false
   },
   "outputs": [
    {
     "data": {
      "text/html": [
       "<div>\n",
       "<table border=\"1\" class=\"dataframe\">\n",
       "  <thead>\n",
       "    <tr style=\"text-align: right;\">\n",
       "      <th></th>\n",
       "      <th>Unnamed: 0</th>\n",
       "      <th>Months since Last Donation</th>\n",
       "      <th>Number of Donations</th>\n",
       "      <th>Total Volume Donated (c.c.)</th>\n",
       "      <th>Months since First Donation</th>\n",
       "      <th>Made Donation in March 2007</th>\n",
       "    </tr>\n",
       "  </thead>\n",
       "  <tbody>\n",
       "    <tr>\n",
       "      <th>0</th>\n",
       "      <td>619</td>\n",
       "      <td>2</td>\n",
       "      <td>50</td>\n",
       "      <td>12500</td>\n",
       "      <td>98</td>\n",
       "      <td>1</td>\n",
       "    </tr>\n",
       "    <tr>\n",
       "      <th>1</th>\n",
       "      <td>664</td>\n",
       "      <td>0</td>\n",
       "      <td>13</td>\n",
       "      <td>3250</td>\n",
       "      <td>28</td>\n",
       "      <td>1</td>\n",
       "    </tr>\n",
       "    <tr>\n",
       "      <th>2</th>\n",
       "      <td>441</td>\n",
       "      <td>1</td>\n",
       "      <td>16</td>\n",
       "      <td>4000</td>\n",
       "      <td>35</td>\n",
       "      <td>1</td>\n",
       "    </tr>\n",
       "    <tr>\n",
       "      <th>3</th>\n",
       "      <td>160</td>\n",
       "      <td>2</td>\n",
       "      <td>20</td>\n",
       "      <td>5000</td>\n",
       "      <td>45</td>\n",
       "      <td>1</td>\n",
       "    </tr>\n",
       "    <tr>\n",
       "      <th>4</th>\n",
       "      <td>358</td>\n",
       "      <td>1</td>\n",
       "      <td>24</td>\n",
       "      <td>6000</td>\n",
       "      <td>77</td>\n",
       "      <td>0</td>\n",
       "    </tr>\n",
       "  </tbody>\n",
       "</table>\n",
       "</div>"
      ],
      "text/plain": [
       "   Unnamed: 0  Months since Last Donation  Number of Donations  \\\n",
       "0         619                           2                   50   \n",
       "1         664                           0                   13   \n",
       "2         441                           1                   16   \n",
       "3         160                           2                   20   \n",
       "4         358                           1                   24   \n",
       "\n",
       "   Total Volume Donated (c.c.)  Months since First Donation  \\\n",
       "0                        12500                           98   \n",
       "1                         3250                           28   \n",
       "2                         4000                           35   \n",
       "3                         5000                           45   \n",
       "4                         6000                           77   \n",
       "\n",
       "   Made Donation in March 2007  \n",
       "0                            1  \n",
       "1                            1  \n",
       "2                            1  \n",
       "3                            1  \n",
       "4                            0  "
      ]
     },
     "execution_count": 7,
     "metadata": {},
     "output_type": "execute_result"
    }
   ],
   "source": [
    "train_df.head()"
   ]
  },
  {
   "cell_type": "code",
   "execution_count": 8,
   "metadata": {
    "collapsed": false
   },
   "outputs": [
    {
     "data": {
      "text/plain": [
       "Index(['Unnamed: 0', 'Months since Last Donation', 'Number of Donations',\n",
       "       'Total Volume Donated (c.c.)', 'Months since First Donation',\n",
       "       'Made Donation in March 2007'],\n",
       "      dtype='object')"
      ]
     },
     "execution_count": 8,
     "metadata": {},
     "output_type": "execute_result"
    }
   ],
   "source": [
    "train_df.columns"
   ]
  },
  {
   "cell_type": "code",
   "execution_count": 9,
   "metadata": {
    "collapsed": false
   },
   "outputs": [],
   "source": [
    "train_df=train_df.rename(columns = {'Unnamed: 0':'ID'})\n",
    "train_df['donation_span'] = train_df['Months since First Donation'] - train_df['Months since Last Donation']\n",
    "\n",
    "train_df['cc per year'] = train_df['donation_span'] / 12\n",
    "train_df['cc per year'] = train_df['Total Volume Donated (c.c.)'] / train_df['cc per year']\n",
    "train_df['cc per year'] = train_df['cc per year'].replace([np.inf, -np.inf], np.nan)\n",
    "train_df['cc per year'] = train_df['cc per year'].fillna(0)\n",
    "train_df['Avg #Donation per year'] = train_df['Months since First Donation'] / 12\n",
    "train_df['Avg #Donation per year'] = train_df['Number of Donations'] / train_df['Avg #Donation per year'] \n",
    "train_df['Avg #Donation per year'] = train_df['Avg #Donation per year'].replace([np.inf, -np.inf], np.nan)\n",
    "train_df['Avg #Donation per year'] = train_df['Avg #Donation per year'].fillna(0)\n",
    "train_df['donates evry x months'] = train_df['donation_span'] / train_df['Number of Donations']\n",
    "train_df['first_time'] = train_df['donation_span'].apply(lambda x : 1 if x == 0 else 0)"
   ]
  },
  {
   "cell_type": "code",
   "execution_count": 10,
   "metadata": {
    "collapsed": true
   },
   "outputs": [],
   "source": [
    "train_df['donation_span_yr'] = train_df['donation_span'] / 12"
   ]
  },
  {
   "cell_type": "code",
   "execution_count": 35,
   "metadata": {
    "collapsed": false,
    "scrolled": true
   },
   "outputs": [
    {
     "data": {
      "text/html": [
       "<div>\n",
       "<table border=\"1\" class=\"dataframe\">\n",
       "  <thead>\n",
       "    <tr style=\"text-align: right;\">\n",
       "      <th></th>\n",
       "      <th>ID</th>\n",
       "      <th>Months since Last Donation</th>\n",
       "      <th>Number of Donations</th>\n",
       "      <th>Total Volume Donated (c.c.)</th>\n",
       "      <th>Months since First Donation</th>\n",
       "      <th>Made Donation in March 2007</th>\n",
       "      <th>donation_span</th>\n",
       "      <th>cc per year</th>\n",
       "      <th>Avg #Donation per year</th>\n",
       "      <th>donates evry x months</th>\n",
       "      <th>first_time</th>\n",
       "      <th>donation_span_yr</th>\n",
       "    </tr>\n",
       "  </thead>\n",
       "  <tbody>\n",
       "    <tr>\n",
       "      <th>0</th>\n",
       "      <td>619</td>\n",
       "      <td>2</td>\n",
       "      <td>50</td>\n",
       "      <td>12500</td>\n",
       "      <td>98</td>\n",
       "      <td>1</td>\n",
       "      <td>96</td>\n",
       "      <td>1562.500000</td>\n",
       "      <td>6.122449</td>\n",
       "      <td>1.920000</td>\n",
       "      <td>0</td>\n",
       "      <td>8.000000</td>\n",
       "    </tr>\n",
       "    <tr>\n",
       "      <th>1</th>\n",
       "      <td>664</td>\n",
       "      <td>0</td>\n",
       "      <td>13</td>\n",
       "      <td>3250</td>\n",
       "      <td>28</td>\n",
       "      <td>1</td>\n",
       "      <td>28</td>\n",
       "      <td>1392.857143</td>\n",
       "      <td>5.571429</td>\n",
       "      <td>2.153846</td>\n",
       "      <td>0</td>\n",
       "      <td>2.333333</td>\n",
       "    </tr>\n",
       "    <tr>\n",
       "      <th>2</th>\n",
       "      <td>441</td>\n",
       "      <td>1</td>\n",
       "      <td>16</td>\n",
       "      <td>4000</td>\n",
       "      <td>35</td>\n",
       "      <td>1</td>\n",
       "      <td>34</td>\n",
       "      <td>1411.764706</td>\n",
       "      <td>5.485714</td>\n",
       "      <td>2.125000</td>\n",
       "      <td>0</td>\n",
       "      <td>2.833333</td>\n",
       "    </tr>\n",
       "    <tr>\n",
       "      <th>3</th>\n",
       "      <td>160</td>\n",
       "      <td>2</td>\n",
       "      <td>20</td>\n",
       "      <td>5000</td>\n",
       "      <td>45</td>\n",
       "      <td>1</td>\n",
       "      <td>43</td>\n",
       "      <td>1395.348837</td>\n",
       "      <td>5.333333</td>\n",
       "      <td>2.150000</td>\n",
       "      <td>0</td>\n",
       "      <td>3.583333</td>\n",
       "    </tr>\n",
       "    <tr>\n",
       "      <th>4</th>\n",
       "      <td>358</td>\n",
       "      <td>1</td>\n",
       "      <td>24</td>\n",
       "      <td>6000</td>\n",
       "      <td>77</td>\n",
       "      <td>0</td>\n",
       "      <td>76</td>\n",
       "      <td>947.368421</td>\n",
       "      <td>3.740260</td>\n",
       "      <td>3.166667</td>\n",
       "      <td>0</td>\n",
       "      <td>6.333333</td>\n",
       "    </tr>\n",
       "  </tbody>\n",
       "</table>\n",
       "</div>"
      ],
      "text/plain": [
       "    ID  Months since Last Donation  Number of Donations  \\\n",
       "0  619                           2                   50   \n",
       "1  664                           0                   13   \n",
       "2  441                           1                   16   \n",
       "3  160                           2                   20   \n",
       "4  358                           1                   24   \n",
       "\n",
       "   Total Volume Donated (c.c.)  Months since First Donation  \\\n",
       "0                        12500                           98   \n",
       "1                         3250                           28   \n",
       "2                         4000                           35   \n",
       "3                         5000                           45   \n",
       "4                         6000                           77   \n",
       "\n",
       "   Made Donation in March 2007  donation_span  cc per year  \\\n",
       "0                            1             96  1562.500000   \n",
       "1                            1             28  1392.857143   \n",
       "2                            1             34  1411.764706   \n",
       "3                            1             43  1395.348837   \n",
       "4                            0             76   947.368421   \n",
       "\n",
       "   Avg #Donation per year  donates evry x months  first_time  donation_span_yr  \n",
       "0                6.122449               1.920000           0          8.000000  \n",
       "1                5.571429               2.153846           0          2.333333  \n",
       "2                5.485714               2.125000           0          2.833333  \n",
       "3                5.333333               2.150000           0          3.583333  \n",
       "4                3.740260               3.166667           0          6.333333  "
      ]
     },
     "execution_count": 35,
     "metadata": {},
     "output_type": "execute_result"
    }
   ],
   "source": [
    "train_df.head()"
   ]
  },
  {
   "cell_type": "code",
   "execution_count": 13,
   "metadata": {
    "collapsed": false
   },
   "outputs": [],
   "source": [
    "train_df.to_excel('abc.xlsx')"
   ]
  },
  {
   "cell_type": "code",
   "execution_count": 14,
   "metadata": {
    "collapsed": false
   },
   "outputs": [
    {
     "name": "stdout",
     "output_type": "stream",
     "text": [
      "<class 'pandas.core.frame.DataFrame'>\n",
      "RangeIndex: 576 entries, 0 to 575\n",
      "Data columns (total 12 columns):\n",
      "ID                             576 non-null int64\n",
      "Months since Last Donation     576 non-null int64\n",
      "Number of Donations            576 non-null int64\n",
      "Total Volume Donated (c.c.)    576 non-null int64\n",
      "Months since First Donation    576 non-null int64\n",
      "Made Donation in March 2007    576 non-null int64\n",
      "donation_span                  576 non-null int64\n",
      "cc per year                    576 non-null float64\n",
      "Avg #Donation per year         576 non-null float64\n",
      "donates evry x months          576 non-null float64\n",
      "first_time                     576 non-null int64\n",
      "donation_span_yr               576 non-null float64\n",
      "dtypes: float64(4), int64(8)\n",
      "memory usage: 54.1 KB\n"
     ]
    }
   ],
   "source": [
    "train_df.info()"
   ]
  },
  {
   "cell_type": "code",
   "execution_count": 15,
   "metadata": {
    "collapsed": false
   },
   "outputs": [
    {
     "data": {
      "text/plain": [
       "403"
      ]
     },
     "execution_count": 15,
     "metadata": {},
     "output_type": "execute_result"
    }
   ],
   "source": [
    "train,test = train_test_split(train_df,test_size=0.3)\n",
    "len(train)"
   ]
  },
  {
   "cell_type": "code",
   "execution_count": 16,
   "metadata": {
    "collapsed": false
   },
   "outputs": [],
   "source": [
    "ftcol = ['donation_span_yr','donates evry x months','Total Volume Donated (c.c.)','Avg #Donation per year','cc per year','Months since Last Donation','Months since First Donation']\n",
    "features = train[ftcol].values\n",
    "label = train['Made Donation in March 2007'].values"
   ]
  },
  {
   "cell_type": "code",
   "execution_count": 17,
   "metadata": {
    "collapsed": true
   },
   "outputs": [],
   "source": [
    "rfc = RandomForestClassifier(n_estimators=1500, max_depth=None, min_samples_split=2, random_state=0,verbose=1,n_jobs = 3,warm_start=True)"
   ]
  },
  {
   "cell_type": "code",
   "execution_count": 18,
   "metadata": {
    "collapsed": false
   },
   "outputs": [
    {
     "name": "stderr",
     "output_type": "stream",
     "text": [
      "[Parallel(n_jobs=3)]: Done  44 tasks      | elapsed:    0.0s\n",
      "[Parallel(n_jobs=3)]: Done 194 tasks      | elapsed:    0.1s\n",
      "[Parallel(n_jobs=3)]: Done 444 tasks      | elapsed:    0.2s\n",
      "[Parallel(n_jobs=3)]: Done 794 tasks      | elapsed:    0.3s\n",
      "[Parallel(n_jobs=3)]: Done 1244 tasks      | elapsed:    0.5s\n",
      "[Parallel(n_jobs=3)]: Done 1500 out of 1500 | elapsed:    0.6s finished\n",
      "[Parallel(n_jobs=3)]: Done  44 tasks      | elapsed:    0.0s\n",
      "[Parallel(n_jobs=3)]: Done 194 tasks      | elapsed:    0.1s\n",
      "[Parallel(n_jobs=3)]: Done 444 tasks      | elapsed:    0.2s\n",
      "[Parallel(n_jobs=3)]: Done 794 tasks      | elapsed:    0.3s\n",
      "[Parallel(n_jobs=3)]: Done 1244 tasks      | elapsed:    0.4s\n",
      "[Parallel(n_jobs=3)]: Done 1500 out of 1500 | elapsed:    0.4s finished\n",
      "/home/ricky/anaconda2/envs/py3/lib/python3.6/site-packages/ipykernel/__main__.py:2: SettingWithCopyWarning: \n",
      "A value is trying to be set on a copy of a slice from a DataFrame.\n",
      "Try using .loc[row_indexer,col_indexer] = value instead\n",
      "\n",
      "See the caveats in the documentation: http://pandas.pydata.org/pandas-docs/stable/indexing.html#indexing-view-versus-copy\n",
      "  from ipykernel import kernelapp as app\n"
     ]
    }
   ],
   "source": [
    "pred = rfc.fit(features,label).predict(test[ftcol].values)\n",
    "test['preds'] = pred"
   ]
  },
  {
   "cell_type": "code",
   "execution_count": 19,
   "metadata": {
    "collapsed": false
   },
   "outputs": [
    {
     "data": {
      "text/plain": [
       "Predicted    0   1  __all__\n",
       "Actual                     \n",
       "0          118  10      128\n",
       "1           29  16       45\n",
       "__all__    147  26      173"
      ]
     },
     "execution_count": 19,
     "metadata": {},
     "output_type": "execute_result"
    }
   ],
   "source": [
    "cm = ConfusionMatrix(test['Made Donation in March 2007'],test['preds'])\n",
    "cm"
   ]
  },
  {
   "cell_type": "code",
   "execution_count": 20,
   "metadata": {
    "collapsed": false
   },
   "outputs": [
    {
     "name": "stdout",
     "output_type": "stream",
     "text": [
      "population: 173\n",
      "P: 45\n",
      "N: 128\n",
      "PositiveTest: 26\n",
      "NegativeTest: 147\n",
      "TP: 16\n",
      "TN: 118\n",
      "FP: 10\n",
      "FN: 29\n",
      "TPR: 0.355555555556\n",
      "TNR: 0.921875\n",
      "PPV: 0.615384615385\n",
      "NPV: 0.802721088435\n",
      "FPR: 0.078125\n",
      "FDR: 0.384615384615\n",
      "FNR: 0.644444444444\n",
      "ACC: 0.774566473988\n",
      "F1_score: 0.450704225352\n",
      "MCC: 0.340580824022\n",
      "informedness: 0.277430555556\n",
      "markedness: 0.41810570382\n",
      "prevalence: 0.260115606936\n",
      "LRP: 4.55111111111\n",
      "LRN: 0.699058380414\n",
      "DOR: 6.51034482759\n",
      "FOR: 0.197278911565\n"
     ]
    }
   ],
   "source": [
    "cm.print_stats()"
   ]
  },
  {
   "cell_type": "code",
   "execution_count": 21,
   "metadata": {
    "collapsed": false
   },
   "outputs": [
    {
     "data": {
      "text/html": [
       "<div>\n",
       "<table border=\"1\" class=\"dataframe\">\n",
       "  <thead>\n",
       "    <tr style=\"text-align: right;\">\n",
       "      <th></th>\n",
       "      <th>Feature</th>\n",
       "      <th>Value</th>\n",
       "    </tr>\n",
       "  </thead>\n",
       "  <tbody>\n",
       "    <tr>\n",
       "      <th>3</th>\n",
       "      <td>Avg #Donation per year</td>\n",
       "      <td>0.191894</td>\n",
       "    </tr>\n",
       "    <tr>\n",
       "      <th>4</th>\n",
       "      <td>cc per year</td>\n",
       "      <td>0.158795</td>\n",
       "    </tr>\n",
       "    <tr>\n",
       "      <th>5</th>\n",
       "      <td>Months since Last Donation</td>\n",
       "      <td>0.144967</td>\n",
       "    </tr>\n",
       "    <tr>\n",
       "      <th>6</th>\n",
       "      <td>Months since First Donation</td>\n",
       "      <td>0.134643</td>\n",
       "    </tr>\n",
       "    <tr>\n",
       "      <th>0</th>\n",
       "      <td>donation_span_yr</td>\n",
       "      <td>0.133097</td>\n",
       "    </tr>\n",
       "    <tr>\n",
       "      <th>1</th>\n",
       "      <td>donates evry x months</td>\n",
       "      <td>0.127025</td>\n",
       "    </tr>\n",
       "    <tr>\n",
       "      <th>2</th>\n",
       "      <td>Total Volume Donated (c.c.)</td>\n",
       "      <td>0.109579</td>\n",
       "    </tr>\n",
       "  </tbody>\n",
       "</table>\n",
       "</div>"
      ],
      "text/plain": [
       "                       Feature     Value\n",
       "3       Avg #Donation per year  0.191894\n",
       "4                  cc per year  0.158795\n",
       "5   Months since Last Donation  0.144967\n",
       "6  Months since First Donation  0.134643\n",
       "0             donation_span_yr  0.133097\n",
       "1        donates evry x months  0.127025\n",
       "2  Total Volume Donated (c.c.)  0.109579"
      ]
     },
     "execution_count": 21,
     "metadata": {},
     "output_type": "execute_result"
    },
    {
     "data": {
      "image/png": "[encoded data removed]",
      "text/plain": [
       "<matplotlib.figure.Figure at 0x7f43b1838978>"
      ]
     },
     "metadata": {},
     "output_type": "display_data"
    }
   ],
   "source": [
    "arr = np.column_stack((ftcol,list(rfc.feature_importances_)))\n",
    "dfplt2 = pd.DataFrame(arr)\n",
    "dfplt2[1] = dfplt2[1].astype('float')\n",
    "dfplt2.columns = ['Feature','Value']\n",
    "dfplt2 = dfplt2.sort_values('Value',ascending=False)\n",
    "dfplt2.plot(kind='bar',figsize=(10,8))\n",
    "dfplt2"
   ]
  },
  {
   "cell_type": "code",
   "execution_count": 22,
   "metadata": {
    "collapsed": false
   },
   "outputs": [
    {
     "data": {
      "text/plain": [
       "7.7862443663342109"
      ]
     },
     "execution_count": 22,
     "metadata": {},
     "output_type": "execute_result"
    }
   ],
   "source": [
    "log_loss(test['Made Donation in March 2007'],test['preds'])"
   ]
  },
  {
   "cell_type": "code",
   "execution_count": 23,
   "metadata": {
    "collapsed": false
   },
   "outputs": [
    {
     "data": {
      "text/plain": [
       "<matplotlib.axes._subplots.AxesSubplot at 0x7f43b1ec6748>"
      ]
     },
     "execution_count": 23,
     "metadata": {},
     "output_type": "execute_result"
    },
    {
     "data": {
      "image/png": "[encoded data removed]",
      "text/plain": [
       "<matplotlib.figure.Figure at 0x7f43bb3abeb8>"
      ]
     },
     "metadata": {},
     "output_type": "display_data"
    }
   ],
   "source": [
    "sns.heatmap(train[ftcol].corr(),linewidths=0.25,vmax=1.0, annot =True, square=True, cmap=\"YlGnBu\", linecolor='black')"
   ]
  },
  {
   "cell_type": "code",
   "execution_count": 24,
   "metadata": {
    "collapsed": false
   },
   "outputs": [],
   "source": [
    "from sklearn.linear_model import LogisticRegression"
   ]
  },
  {
   "cell_type": "code",
   "execution_count": 25,
   "metadata": {
    "collapsed": false
   },
   "outputs": [
    {
     "name": "stdout",
     "output_type": "stream",
     "text": [
      "[LibLinear]"
     ]
    },
    {
     "name": "stderr",
     "output_type": "stream",
     "text": [
      "/home/ricky/anaconda2/envs/py3/lib/python3.6/site-packages/ipykernel/__main__.py:3: SettingWithCopyWarning: \n",
      "A value is trying to be set on a copy of a slice from a DataFrame.\n",
      "Try using .loc[row_indexer,col_indexer] = value instead\n",
      "\n",
      "See the caveats in the documentation: http://pandas.pydata.org/pandas-docs/stable/indexing.html#indexing-view-versus-copy\n",
      "  app.launch_new_instance()\n"
     ]
    }
   ],
   "source": [
    "lr = LogisticRegression(max_iter =1000,solver='liblinear',verbose=1)\n",
    "predlr = lr.fit(features,label).predict(test[ftcol])\n",
    "test['predlr'] = predlr"
   ]
  },
  {
   "cell_type": "code",
   "execution_count": 26,
   "metadata": {
    "collapsed": false
   },
   "outputs": [
    {
     "data": {
      "text/plain": [
       "Predicted    0   1  __all__\n",
       "Actual                     \n",
       "0          122   6      128\n",
       "1           37   8       45\n",
       "__all__    159  14      173"
      ]
     },
     "execution_count": 26,
     "metadata": {},
     "output_type": "execute_result"
    }
   ],
   "source": [
    "c2 = ConfusionMatrix(test['Made Donation in March 2007'],test['predlr'])\n",
    "c2"
   ]
  },
  {
   "cell_type": "code",
   "execution_count": 27,
   "metadata": {
    "collapsed": false
   },
   "outputs": [
    {
     "name": "stdout",
     "output_type": "stream",
     "text": [
      "population: 173\n",
      "P: 45\n",
      "N: 128\n",
      "PositiveTest: 14\n",
      "NegativeTest: 159\n",
      "TP: 8\n",
      "TN: 122\n",
      "FP: 6\n",
      "FN: 37\n",
      "TPR: 0.177777777778\n",
      "TNR: 0.953125\n",
      "PPV: 0.571428571429\n",
      "NPV: 0.767295597484\n",
      "FPR: 0.046875\n",
      "FDR: 0.428571428571\n",
      "FNR: 0.822222222222\n",
      "ACC: 0.751445086705\n",
      "F1_score: 0.271186440678\n",
      "MCC: 0.21057049796\n",
      "informedness: 0.130902777778\n",
      "markedness: 0.338724168913\n",
      "prevalence: 0.260115606936\n",
      "LRP: 3.79259259259\n",
      "LRN: 0.862659380692\n",
      "DOR: 4.3963963964\n",
      "FOR: 0.232704402516\n"
     ]
    }
   ],
   "source": [
    "c2.print_stats()"
   ]
  },
  {
   "cell_type": "code",
   "execution_count": 28,
   "metadata": {
    "collapsed": true
   },
   "outputs": [],
   "source": [
    "test_df = pd.read_csv('blood_test.csv')"
   ]
  },
  {
   "cell_type": "code",
   "execution_count": 29,
   "metadata": {
    "collapsed": false
   },
   "outputs": [
    {
     "name": "stdout",
     "output_type": "stream",
     "text": [
      "<class 'pandas.core.frame.DataFrame'>\n",
      "RangeIndex: 200 entries, 0 to 199\n",
      "Data columns (total 5 columns):\n",
      "Unnamed: 0                     200 non-null int64\n",
      "Months since Last Donation     200 non-null int64\n",
      "Number of Donations            200 non-null int64\n",
      "Total Volume Donated (c.c.)    200 non-null int64\n",
      "Months since First Donation    200 non-null int64\n",
      "dtypes: int64(5)\n",
      "memory usage: 7.9 KB\n"
     ]
    }
   ],
   "source": [
    "test_df.info()"
   ]
  },
  {
   "cell_type": "code",
   "execution_count": 30,
   "metadata": {
    "collapsed": false
   },
   "outputs": [],
   "source": [
    "test_df=test_df.rename(columns = {'Unnamed: 0':'ID'})\n",
    "test_df['donation_span'] = test_df['Months since First Donation'] - train_df['Months since Last Donation']\n",
    "\n",
    "test_df['cc per year'] = test_df['donation_span'] / 12\n",
    "test_df['cc per year'] = test_df['Total Volume Donated (c.c.)'] / test_df['cc per year']\n",
    "test_df['cc per year'] = test_df['cc per year'].replace([np.inf, -np.inf], np.nan)\n",
    "test_df['cc per year'] = test_df['cc per year'].fillna(0)\n",
    "test_df['Avg #Donation per year'] = test_df['Months since First Donation'] / 12\n",
    "test_df['Avg #Donation per year'] = test_df['Number of Donations'] / test_df['Avg #Donation per year'] \n",
    "test_df['Avg #Donation per year'] = test_df['Avg #Donation per year'].replace([np.inf, -np.inf], np.nan)\n",
    "test_df['Avg #Donation per year'] = test_df['Avg #Donation per year'].fillna(0)\n",
    "test_df['donates evry x months'] = test_df['donation_span'] / test_df['Number of Donations']\n",
    "test_df['first_time'] = test_df['donation_span'].apply(lambda x : 1 if x == 0 else 0)"
   ]
  },
  {
   "cell_type": "code",
   "execution_count": 40,
   "metadata": {
    "collapsed": true
   },
   "outputs": [],
   "source": [
    "test_df['donation_span_yr'] = test_df['donation_span'] / 12"
   ]
  },
  {
   "cell_type": "code",
   "execution_count": 41,
   "metadata": {
    "collapsed": false,
    "scrolled": true
   },
   "outputs": [
    {
     "data": {
      "text/html": [
       "<div>\n",
       "<table border=\"1\" class=\"dataframe\">\n",
       "  <thead>\n",
       "    <tr style=\"text-align: right;\">\n",
       "      <th></th>\n",
       "      <th>ID</th>\n",
       "      <th>Months since Last Donation</th>\n",
       "      <th>Number of Donations</th>\n",
       "      <th>Total Volume Donated (c.c.)</th>\n",
       "      <th>Months since First Donation</th>\n",
       "      <th>donation_span</th>\n",
       "      <th>cc per year</th>\n",
       "      <th>Avg #Donation per year</th>\n",
       "      <th>donates evry x months</th>\n",
       "      <th>first_time</th>\n",
       "      <th>donation_span_yr</th>\n",
       "    </tr>\n",
       "  </thead>\n",
       "  <tbody>\n",
       "    <tr>\n",
       "      <th>0</th>\n",
       "      <td>659</td>\n",
       "      <td>2</td>\n",
       "      <td>12</td>\n",
       "      <td>3000</td>\n",
       "      <td>52</td>\n",
       "      <td>50.0</td>\n",
       "      <td>720.000000</td>\n",
       "      <td>2.769231</td>\n",
       "      <td>4.166667</td>\n",
       "      <td>0</td>\n",
       "      <td>4.166667</td>\n",
       "    </tr>\n",
       "    <tr>\n",
       "      <th>1</th>\n",
       "      <td>276</td>\n",
       "      <td>21</td>\n",
       "      <td>7</td>\n",
       "      <td>1750</td>\n",
       "      <td>38</td>\n",
       "      <td>38.0</td>\n",
       "      <td>552.631579</td>\n",
       "      <td>2.210526</td>\n",
       "      <td>5.428571</td>\n",
       "      <td>0</td>\n",
       "      <td>3.166667</td>\n",
       "    </tr>\n",
       "    <tr>\n",
       "      <th>2</th>\n",
       "      <td>263</td>\n",
       "      <td>4</td>\n",
       "      <td>1</td>\n",
       "      <td>250</td>\n",
       "      <td>4</td>\n",
       "      <td>3.0</td>\n",
       "      <td>1000.000000</td>\n",
       "      <td>3.000000</td>\n",
       "      <td>3.000000</td>\n",
       "      <td>0</td>\n",
       "      <td>0.250000</td>\n",
       "    </tr>\n",
       "    <tr>\n",
       "      <th>3</th>\n",
       "      <td>303</td>\n",
       "      <td>11</td>\n",
       "      <td>11</td>\n",
       "      <td>2750</td>\n",
       "      <td>38</td>\n",
       "      <td>36.0</td>\n",
       "      <td>916.666667</td>\n",
       "      <td>3.473684</td>\n",
       "      <td>3.272727</td>\n",
       "      <td>0</td>\n",
       "      <td>3.000000</td>\n",
       "    </tr>\n",
       "    <tr>\n",
       "      <th>4</th>\n",
       "      <td>83</td>\n",
       "      <td>4</td>\n",
       "      <td>12</td>\n",
       "      <td>3000</td>\n",
       "      <td>34</td>\n",
       "      <td>33.0</td>\n",
       "      <td>1090.909091</td>\n",
       "      <td>4.235294</td>\n",
       "      <td>2.750000</td>\n",
       "      <td>0</td>\n",
       "      <td>2.750000</td>\n",
       "    </tr>\n",
       "  </tbody>\n",
       "</table>\n",
       "</div>"
      ],
      "text/plain": [
       "    ID  Months since Last Donation  Number of Donations  \\\n",
       "0  659                           2                   12   \n",
       "1  276                          21                    7   \n",
       "2  263                           4                    1   \n",
       "3  303                          11                   11   \n",
       "4   83                           4                   12   \n",
       "\n",
       "   Total Volume Donated (c.c.)  Months since First Donation  donation_span  \\\n",
       "0                         3000                           52           50.0   \n",
       "1                         1750                           38           38.0   \n",
       "2                          250                            4            3.0   \n",
       "3                         2750                           38           36.0   \n",
       "4                         3000                           34           33.0   \n",
       "\n",
       "   cc per year  Avg #Donation per year  donates evry x months  first_time  \\\n",
       "0   720.000000                2.769231               4.166667           0   \n",
       "1   552.631579                2.210526               5.428571           0   \n",
       "2  1000.000000                3.000000               3.000000           0   \n",
       "3   916.666667                3.473684               3.272727           0   \n",
       "4  1090.909091                4.235294               2.750000           0   \n",
       "\n",
       "   donation_span_yr  \n",
       "0          4.166667  \n",
       "1          3.166667  \n",
       "2          0.250000  \n",
       "3          3.000000  \n",
       "4          2.750000  "
      ]
     },
     "execution_count": 41,
     "metadata": {},
     "output_type": "execute_result"
    }
   ],
   "source": [
    "test_df.head()"
   ]
  },
  {
   "cell_type": "code",
   "execution_count": 42,
   "metadata": {
    "collapsed": false
   },
   "outputs": [
    {
     "name": "stdout",
     "output_type": "stream",
     "text": [
      "<class 'pandas.core.frame.DataFrame'>\n",
      "RangeIndex: 200 entries, 0 to 199\n",
      "Data columns (total 11 columns):\n",
      "ID                             200 non-null int64\n",
      "Months since Last Donation     200 non-null int64\n",
      "Number of Donations            200 non-null int64\n",
      "Total Volume Donated (c.c.)    200 non-null int64\n",
      "Months since First Donation    200 non-null int64\n",
      "donation_span                  200 non-null float64\n",
      "cc per year                    200 non-null float64\n",
      "Avg #Donation per year         200 non-null float64\n",
      "donates evry x months          200 non-null float64\n",
      "first_time                     200 non-null int64\n",
      "donation_span_yr               200 non-null float64\n",
      "dtypes: float64(5), int64(6)\n",
      "memory usage: 17.3 KB\n"
     ]
    }
   ],
   "source": [
    "test_df.info()"
   ]
  },
  {
   "cell_type": "code",
   "execution_count": 43,
   "metadata": {
    "collapsed": false
   },
   "outputs": [
    {
     "name": "stdout",
     "output_type": "stream",
     "text": [
      "[LibLinear]"
     ]
    }
   ],
   "source": [
    "lr = LogisticRegression(max_iter =1000,solver='liblinear',verbose=1)\n",
    "predlr = lr.fit(train_df[ftcol].values,train_df['Made Donation in March 2007']).predict_proba(test_df[ftcol])"
   ]
  },
  {
   "cell_type": "code",
   "execution_count": 44,
   "metadata": {
    "collapsed": false
   },
   "outputs": [],
   "source": [
    "from sklearn.ensemble import RandomForestRegressor\n",
    "rfr = RandomForestRegressor(n_estimators=1500, max_depth=None, min_samples_split=2, random_state=0,verbose=1,n_jobs = 3,warm_start=True)"
   ]
  },
  {
   "cell_type": "code",
   "execution_count": 45,
   "metadata": {
    "collapsed": false
   },
   "outputs": [
    {
     "name": "stderr",
     "output_type": "stream",
     "text": [
      "[Parallel(n_jobs=3)]: Done  44 tasks      | elapsed:    0.0s\n",
      "[Parallel(n_jobs=3)]: Done 194 tasks      | elapsed:    0.1s\n",
      "[Parallel(n_jobs=3)]: Done 444 tasks      | elapsed:    0.2s\n",
      "[Parallel(n_jobs=3)]: Done 794 tasks      | elapsed:    0.4s\n",
      "[Parallel(n_jobs=3)]: Done 1244 tasks      | elapsed:    0.5s\n",
      "[Parallel(n_jobs=3)]: Done 1500 out of 1500 | elapsed:    0.7s finished\n",
      "[Parallel(n_jobs=3)]: Done  44 tasks      | elapsed:    0.0s\n",
      "[Parallel(n_jobs=3)]: Done 194 tasks      | elapsed:    0.0s\n",
      "[Parallel(n_jobs=3)]: Done 444 tasks      | elapsed:    0.1s\n",
      "[Parallel(n_jobs=3)]: Done 794 tasks      | elapsed:    0.1s\n",
      "[Parallel(n_jobs=3)]: Done 1244 tasks      | elapsed:    0.2s\n",
      "[Parallel(n_jobs=3)]: Done 1500 out of 1500 | elapsed:    0.2s finished\n"
     ]
    }
   ],
   "source": [
    "predreg = rfr.fit(train_df[ftcol].values,train_df['Made Donation in March 2007']).predict(test_df[ftcol])\n",
    "test_df['predreg'] = predreg"
   ]
  },
  {
   "cell_type": "code",
   "execution_count": 46,
   "metadata": {
    "collapsed": true
   },
   "outputs": [],
   "source": [
    "df = pd.DataFrame(predlr)\n",
    "df.columns = ['LogicPred','LogicPredfinal']"
   ]
  },
  {
   "cell_type": "code",
   "execution_count": 47,
   "metadata": {
    "collapsed": false
   },
   "outputs": [],
   "source": [
    "test_df = pd.concat([test_df,df['LogicPredfinal']],axis=1)"
   ]
  },
  {
   "cell_type": "code",
   "execution_count": 48,
   "metadata": {
    "collapsed": false
   },
   "outputs": [
    {
     "data": {
      "text/html": [
       "<div>\n",
       "<table border=\"1\" class=\"dataframe\">\n",
       "  <thead>\n",
       "    <tr style=\"text-align: right;\">\n",
       "      <th></th>\n",
       "      <th>ID</th>\n",
       "      <th>Months since Last Donation</th>\n",
       "      <th>Number of Donations</th>\n",
       "      <th>Total Volume Donated (c.c.)</th>\n",
       "      <th>Months since First Donation</th>\n",
       "      <th>donation_span</th>\n",
       "      <th>cc per year</th>\n",
       "      <th>Avg #Donation per year</th>\n",
       "      <th>donates evry x months</th>\n",
       "      <th>first_time</th>\n",
       "      <th>donation_span_yr</th>\n",
       "      <th>predreg</th>\n",
       "      <th>LogicPredfinal</th>\n",
       "    </tr>\n",
       "  </thead>\n",
       "  <tbody>\n",
       "    <tr>\n",
       "      <th>0</th>\n",
       "      <td>659</td>\n",
       "      <td>2</td>\n",
       "      <td>12</td>\n",
       "      <td>3000</td>\n",
       "      <td>52</td>\n",
       "      <td>50.0</td>\n",
       "      <td>720.000000</td>\n",
       "      <td>2.769231</td>\n",
       "      <td>4.166667</td>\n",
       "      <td>0</td>\n",
       "      <td>4.166667</td>\n",
       "      <td>0.547859</td>\n",
       "      <td>0.470152</td>\n",
       "    </tr>\n",
       "    <tr>\n",
       "      <th>1</th>\n",
       "      <td>276</td>\n",
       "      <td>21</td>\n",
       "      <td>7</td>\n",
       "      <td>1750</td>\n",
       "      <td>38</td>\n",
       "      <td>38.0</td>\n",
       "      <td>552.631579</td>\n",
       "      <td>2.210526</td>\n",
       "      <td>5.428571</td>\n",
       "      <td>0</td>\n",
       "      <td>3.166667</td>\n",
       "      <td>0.340572</td>\n",
       "      <td>0.058337</td>\n",
       "    </tr>\n",
       "    <tr>\n",
       "      <th>2</th>\n",
       "      <td>263</td>\n",
       "      <td>4</td>\n",
       "      <td>1</td>\n",
       "      <td>250</td>\n",
       "      <td>4</td>\n",
       "      <td>3.0</td>\n",
       "      <td>1000.000000</td>\n",
       "      <td>3.000000</td>\n",
       "      <td>3.000000</td>\n",
       "      <td>0</td>\n",
       "      <td>0.250000</td>\n",
       "      <td>0.268586</td>\n",
       "      <td>0.337367</td>\n",
       "    </tr>\n",
       "    <tr>\n",
       "      <th>3</th>\n",
       "      <td>303</td>\n",
       "      <td>11</td>\n",
       "      <td>11</td>\n",
       "      <td>2750</td>\n",
       "      <td>38</td>\n",
       "      <td>36.0</td>\n",
       "      <td>916.666667</td>\n",
       "      <td>3.473684</td>\n",
       "      <td>3.272727</td>\n",
       "      <td>0</td>\n",
       "      <td>3.000000</td>\n",
       "      <td>0.122944</td>\n",
       "      <td>0.253066</td>\n",
       "    </tr>\n",
       "    <tr>\n",
       "      <th>4</th>\n",
       "      <td>83</td>\n",
       "      <td>4</td>\n",
       "      <td>12</td>\n",
       "      <td>3000</td>\n",
       "      <td>34</td>\n",
       "      <td>33.0</td>\n",
       "      <td>1090.909091</td>\n",
       "      <td>4.235294</td>\n",
       "      <td>2.750000</td>\n",
       "      <td>0</td>\n",
       "      <td>2.750000</td>\n",
       "      <td>0.601174</td>\n",
       "      <td>0.478716</td>\n",
       "    </tr>\n",
       "  </tbody>\n",
       "</table>\n",
       "</div>"
      ],
      "text/plain": [
       "    ID  Months since Last Donation  Number of Donations  \\\n",
       "0  659                           2                   12   \n",
       "1  276                          21                    7   \n",
       "2  263                           4                    1   \n",
       "3  303                          11                   11   \n",
       "4   83                           4                   12   \n",
       "\n",
       "   Total Volume Donated (c.c.)  Months since First Donation  donation_span  \\\n",
       "0                         3000                           52           50.0   \n",
       "1                         1750                           38           38.0   \n",
       "2                          250                            4            3.0   \n",
       "3                         2750                           38           36.0   \n",
       "4                         3000                           34           33.0   \n",
       "\n",
       "   cc per year  Avg #Donation per year  donates evry x months  first_time  \\\n",
       "0   720.000000                2.769231               4.166667           0   \n",
       "1   552.631579                2.210526               5.428571           0   \n",
       "2  1000.000000                3.000000               3.000000           0   \n",
       "3   916.666667                3.473684               3.272727           0   \n",
       "4  1090.909091                4.235294               2.750000           0   \n",
       "\n",
       "   donation_span_yr   predreg  LogicPredfinal  \n",
       "0          4.166667  0.547859        0.470152  \n",
       "1          3.166667  0.340572        0.058337  \n",
       "2          0.250000  0.268586        0.337367  \n",
       "3          3.000000  0.122944        0.253066  \n",
       "4          2.750000  0.601174        0.478716  "
      ]
     },
     "execution_count": 48,
     "metadata": {},
     "output_type": "execute_result"
    }
   ],
   "source": [
    "test_df.head()"
   ]
  },
  {
   "cell_type": "code",
   "execution_count": 49,
   "metadata": {
    "collapsed": true
   },
   "outputs": [],
   "source": [
    "test_df[['ID','LogicPredfinal']].to_csv('bloodResult17-3.csv',index=False)"
   ]
  },
  {
   "cell_type": "code",
   "execution_count": 50,
   "metadata": {
    "collapsed": false
   },
   "outputs": [
    {
     "name": "stderr",
     "output_type": "stream",
     "text": [
      "/home/ricky/anaconda2/envs/py3/lib/python3.6/site-packages/sklearn/cross_validation.py:44: DeprecationWarning: This module was deprecated in version 0.18 in favor of the model_selection module into which all the refactored classes and functions are moved. Also note that the interface of the new CV iterators are different from that of this module. This module will be removed in 0.20.\n",
      "  \"This module will be removed in 0.20.\", DeprecationWarning)\n"
     ]
    }
   ],
   "source": [
    "import xgboost as xgb"
   ]
  },
  {
   "cell_type": "code",
   "execution_count": 72,
   "metadata": {
    "collapsed": false
   },
   "outputs": [
    {
     "name": "stderr",
     "output_type": "stream",
     "text": [
      "/home/ricky/anaconda2/envs/py3/lib/python3.6/site-packages/ipykernel/__main__.py:4: SettingWithCopyWarning: \n",
      "A value is trying to be set on a copy of a slice from a DataFrame.\n",
      "Try using .loc[row_indexer,col_indexer] = value instead\n",
      "\n",
      "See the caveats in the documentation: http://pandas.pydata.org/pandas-docs/stable/indexing.html#indexing-view-versus-copy\n"
     ]
    }
   ],
   "source": [
    "x = xgb.XGBClassifier()\n",
    "\n",
    "xpreds = x.fit(features,label).predict(test[ftcol].values)\n",
    "test['xgb'] = xpreds"
   ]
  },
  {
   "cell_type": "code",
   "execution_count": 73,
   "metadata": {
    "collapsed": false
   },
   "outputs": [
    {
     "data": {
      "text/plain": [
       "Predicted    0   1  __all__\n",
       "Actual                     \n",
       "0          118  10      128\n",
       "1           28  17       45\n",
       "__all__    146  27      173"
      ]
     },
     "execution_count": 73,
     "metadata": {},
     "output_type": "execute_result"
    }
   ],
   "source": [
    "cnfm = ConfusionMatrix(test['Made Donation in March 2007'],test['xgb'])\n",
    "cnfm"
   ]
  },
  {
   "cell_type": "code",
   "execution_count": 74,
   "metadata": {
    "collapsed": false
   },
   "outputs": [
    {
     "name": "stdout",
     "output_type": "stream",
     "text": [
      "population: 173\n",
      "P: 45\n",
      "N: 128\n",
      "PositiveTest: 27\n",
      "NegativeTest: 146\n",
      "TP: 17\n",
      "TN: 118\n",
      "FP: 10\n",
      "FN: 28\n",
      "TPR: 0.377777777778\n",
      "TNR: 0.921875\n",
      "PPV: 0.62962962963\n",
      "NPV: 0.808219178082\n",
      "FPR: 0.078125\n",
      "FDR: 0.37037037037\n",
      "FNR: 0.622222222222\n",
      "ACC: 0.780346820809\n",
      "F1_score: 0.472222222222\n",
      "MCC: 0.362219010376\n",
      "informedness: 0.299652777778\n",
      "markedness: 0.437848807712\n",
      "prevalence: 0.260115606936\n",
      "LRP: 4.83555555556\n",
      "LRN: 0.674952919021\n",
      "DOR: 7.16428571429\n",
      "FOR: 0.191780821918\n"
     ]
    }
   ],
   "source": [
    "cnfm.print_stats()"
   ]
  },
  {
   "cell_type": "code",
   "execution_count": null,
   "metadata": {
    "collapsed": true
   },
   "outputs": [],
   "source": []
  }
 ],
 "metadata": {
  "anaconda-cloud": {},
  "kernelspec": {
   "display_name": "Python [conda env:py3]",
   "language": "python",
   "name": "conda-env-py3-py"
  },
  "language_info": {
   "codemirror_mode": {
    "name": "ipython",
    "version": 3
   },
   "file_extension": ".py",
   "mimetype": "text/x-python",
   "name": "python",
   "nbconvert_exporter": "python",
   "pygments_lexer": "ipython3",
   "version": "3.6.1"
  }
 },
 "nbformat": 4,
 "nbformat_minor": 0
}
